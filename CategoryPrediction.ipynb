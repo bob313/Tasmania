{
 "cells": [
  {
   "cell_type": "code",
   "execution_count": 444,
   "metadata": {},
   "outputs": [],
   "source": [
    "import numpy as np\n",
    "import matplotlib \n",
    "import pandas as pd\n",
    "from pandas.plotting import scatter_matrix\n",
    "import matplotlib.pyplot as plt\n",
    "from sklearn import model_selection\n",
    "from sklearn import tree\n",
    "from sklearn import neighbors\n",
    "from sklearn.model_selection import train_test_split\n",
    "from sklearn.metrics import classification_report\n",
    "from sklearn.metrics import confusion_matrix\n",
    "from sklearn.metrics import accuracy_score\n",
    "from sklearn.preprocessing import MinMaxScaler\n",
    "from sklearn.linear_model import LogisticRegression\n",
    "from sklearn.tree import DecisionTreeClassifier\n",
    "from sklearn.model_selection import StratifiedKFold\n",
    "from sklearn.neighbors import KNeighborsClassifier\n",
    "from sklearn.model_selection import GridSearchCV\n",
    "from sklearn.discriminant_analysis import LinearDiscriminantAnalysis\n",
    "from sklearn.naive_bayes import GaussianNB\n",
    "from sklearn.svm import SVC"
   ]
  },
  {
   "cell_type": "code",
   "execution_count": 445,
   "metadata": {},
   "outputs": [
    {
     "name": "stdout",
     "output_type": "stream",
     "text": [
      "0.9259259259259259\n"
     ]
    }
   ],
   "source": [
    "train = pd.read_csv(\"contest-train.csv\", encoding=\"utf-8\")\n",
    "test = pd.read_csv(\"contest-test.csv\", encoding=\"utf-8\")\n",
    "columns = ['Unnamed: 0', 'ID', 'Start Date', 'End Date', 'Start Mo/Yr', 'End Mo/Yr', 'Start FY', 'End FY', 'Individual Travel Hours', 'Rqst Tot Labor Hrs', 'Airfare', 'Hotel', 'Per Diem', 'Other', 'Estimated Individual Travel', 'Misc Expenses', 'Catering', 'Facility Rental', 'Direct Other Expenses', 'Describe Other Expenses', 'Direct Expense Impact', 'Rqst NPR Alloc', 'Rqst NPR OH', 'Cancel No Response', 'Created', 'Retroactive Start Date', 'Duplicates', 'Reporting Status']\n",
    "#columns = ['Unnamed: 0', 'ID']\n",
    "#columns=['Training Location','Organization','Home Office/Metro Area','Function Name','Is there a course with this certification?', 'Certification URL','Organization Number', 'Assigned To', 'Course or Event Name', 'Vendor Charge', 'Course Name', 'Course URL / Code', 'Unnamed: 0', 'ID', 'Request Status', 'Start Date', 'End Date', 'Start Mo/Yr', 'End Mo/Yr', 'Start FY', 'End FY', 'Individual Travel Hours', 'Rqst Tot Labor Hrs', 'Airfare', 'Hotel', 'Per Diem', 'Other', 'Estimated Individual Travel', 'Misc Expenses', 'Catering', 'Facility Rental', 'Direct Other Expenses', 'Describe Other Expenses', 'Direct Expense Impact', 'Rqst NPR Alloc', 'Rqst NPR OH', 'Cancel No Response', 'Created', 'Retroactive Start Date', 'Duplicates', 'Reporting Status']\n",
    "#['ID', 'Course Name', 'Course URL / Code', 'Certification URL','Consolidated Course Name', 'Assigned To', 'Request Status', 'Start Date', 'End Date', 'Start Mo/Yr', 'End Mo/Yr', 'Start FY', 'End FY', 'Individual Travel Hours', 'Rqst Tot Labor Hrs', 'Airfare', 'Hotel', 'Per Diem', 'Other', 'Estimated Individual Travel', 'Misc Expenses', 'Catering', 'Facility Rental', 'Direct Other Expenses', 'Describe Other Expenses', 'Direct Expense Impact', 'Rqst NPR Alloc', 'Rqst NPR OH', 'Cancel No Response', 'Created', 'Retroactive Start Date', 'Duplicates', 'Reporting Status']\n",
    "categorical = ['Training Source', 'Home Office/Metro Area', 'Organization Number', 'Organization', 'Capability', 'Function 2', 'Career Level', 'Function', 'Function Name', 'Title', 'Training Type', 'Training Provider', 'Training Delivery Type', 'Training Location', 'Course Name', 'Course URL / Code', 'Vendor Name', 'Conference Name', 'Course or Event Name', 'Certification Type', 'Certification Name', 'Certification URL', 'Is there a course with this certification?', 'Consolidated Course Name', 'Activity', 'Support Group', 'Assigned To', 'Request Status', 'Business Justification', 'What % of the conference is business development?', 'Travel Required']\n",
    "train = train.drop(axis=1, inplace=False, labels = columns)\n",
    "test = test.drop(axis=1, inplace=False, labels = columns)\n",
    "\n",
    "full_set = pd.concat([train,test], axis=0)\n",
    "full = pd.get_dummies(data = full_set, columns = categorical, drop_first = True)\n",
    "\n",
    "#remove rows where Category is NaN\n",
    "initial = full.dropna(subset=['Category'])\n",
    "#output portion should be records where Category is NaN\n",
    "x_out = full[full['Category'].isnull()]\n",
    "x_out = x_out.drop(['Category'], axis = 1)\n",
    "\n",
    "i = 0\n",
    "cat = dict()\n",
    "for name in initial['Category'].unique():\n",
    "    cat[name] = i\n",
    "    i += 1\n",
    "    \n",
    "inv_map = {v: k for k, v in cat.items()}\n",
    "vfun = np.vectorize(inv_map.get)\n",
    "\n",
    "## These only appear once for category\n",
    "solo = initial.loc[(initial['Category'] == 'Pega') | (initial['Category'] == 'JDA') | (initial['Category'] == 'Recruiting')]\n",
    "i_Names = initial[(initial['Category'] == 'Pega') | (initial['Category'] == 'JDA') | (initial['Category'] == 'Recruiting')].index\n",
    "splitting = initial.drop(i_Names , inplace=False)\n",
    "x_solo = solo.loc[:, solo.columns != 'Category']\n",
    "y_solo = solo.loc[:, solo.columns == 'Category']\n",
    "yip = splitting['Category'].copy()\n",
    "nip = splitting.drop(['Category'], axis = 1)\n",
    "\n",
    "# split up data by stratified random sampling to test results\n",
    "x_train, x_test, y_train, y_test = train_test_split(nip, yip, test_size=.2, random_state=24, stratify=yip).copy()\n",
    "x_train = x_train.append(x_solo)\n",
    "y_train.rename('Category')\n",
    "y_train = y_train.to_frame()\n",
    "y_train = y_train.append(y_solo)\n",
    "y_test.rename('Category')\n",
    "y_test = y_test.to_frame()\n",
    "\n",
    "\n",
    "#apply the map to Category\n",
    "y_train_fin = pd.DataFrame(data = y_train['Category'].map(cat))\n",
    "y_test_fin = pd.DataFrame(data = y_test['Category'].map(cat))\n",
    "\n",
    "scoring = 'accuracy'\n",
    "\n",
    "seed = 52\n",
    "clf = tree.DecisionTreeClassifier()\n",
    "clf = clf.fit(x_train, y_train_fin.values.ravel())\n",
    "prediction_trial = clf.predict(x_test)\n",
    "print(accuracy_score(y_test_fin, prediction_trial))"
   ]
  },
  {
   "cell_type": "code",
   "execution_count": 459,
   "metadata": {},
   "outputs": [],
   "source": [
    "prediction = clf.predict(x_out)\n",
    "prediction = vfun(prediction)\n",
    "output = pd.read_csv(\"contest-test.csv\", encoding=\"utf-8\")\n",
    "output = output.drop(output.columns[0], axis=1)\n",
    "for i in range(0,len(prediction)):\n",
    "    output.loc[i, 'Category'] = prediction[i]"
   ]
  },
  {
   "cell_type": "code",
   "execution_count": 461,
   "metadata": {},
   "outputs": [],
   "source": [
    "output.to_csv('output.csv')"
   ]
  },
  {
   "cell_type": "code",
   "execution_count": 447,
   "metadata": {},
   "outputs": [
    {
     "data": {
      "text/plain": [
       "array([15, 15,  0, ..., 13, 11, 12])"
      ]
     },
     "execution_count": 447,
     "metadata": {},
     "output_type": "execute_result"
    }
   ],
   "source": [
    "\n",
    "#.select_dtypes(exclude=['uint8'])\n",
    "#param_can = {'max_depth':range(3,20)}\n",
    "#kfold = model_selection.KFold(n_splits=10, random_state=seed)\n",
    "#clf = GridSearchCV(tree.DecisionTreeClassifier(random_state=seed), param_can, n_jobs=4)\n",
    "#clf.fit(x_train, y_train_fin.values.ravel())\n",
    "#tree_model = clf.best_estimator_\n",
    "#predicting = tree_model.predict(x_out)\n",
    "#print(accuracy_score(dog, predicting))\n",
    "#C = 4.3\n",
    "\n",
    "#LR = LogisticRegression(C=C)\n",
    "#LR.fit(x_train, y_train_fin.values.ravel())\n",
    "#predictions = LR.predict(x_out)    \n",
    "#print (accuracy_score(dog, predictions))"
   ]
  },
  {
   "cell_type": "code",
   "execution_count": 247,
   "metadata": {},
   "outputs": [],
   "source": [
    "# This block is only used for testing initial method\n",
    "\n",
    "## These only appear once for category\n",
    "#solo = train.loc[(train['Category'] == 'Pega') | (train['Category'] == 'JDA') | (train['Category'] == 'Recruiting')]\n",
    "#i_Names = train[(train['Category'] == 'Pega') | (train['Category'] == 'JDA') | (train['Category'] == 'Recruiting')].index\n",
    "#train.drop(i_Names , inplace=True)\n",
    "#x_solo = solo.loc[:, solo.columns != 'Category']\n",
    "#y_solo = solo.loc[:, solo.columns == 'Category']\n",
    "#y = train.pop('Category')\n",
    "#x = train\n",
    "## split up data by stratified random sampling to test results\n",
    "#x_train, x_test, y_train, y_test = train_test_split(x, y, test_size=.02, random_state=24, stratify=y).copy()\n",
    "#x_train = x_train.append(x_solo)\n",
    "#y_train.rename('Category')\n",
    "#y_train = y_train.to_frame()\n",
    "#y_train = y_train.append(y_solo)\n",
    "#for col in x_test.columns:\n",
    "#    x_test[col] = x_test[col].astype('category').cat.codes\n",
    "#    x_test[col] = x_test[col].astype('category',copy=False)\n",
    "        \n",
    "#y_train = train.pop('Category')\n",
    "#x_train = train\n",
    "# map category values to a unique integer\n",
    "#i = 0\n",
    "#cat = dict()\n",
    "#for name in y_train.tolist():\n",
    "#    if name not in cat:\n",
    "#        cat[name] = i\n",
    "#        i += 1\n",
    "\n",
    "#y_train_num = pd.DataFrame(data = y_train.map(cat))\n",
    "\n",
    "#for col in x_train.columns:\n",
    "#    if x_train[col].dtype == 'O':\n",
    "#        x_train[col] = x_train[col].astype('category').cat.codes\n",
    "#        x_train[col] = x_train[col].astype('category',copy=False)\n",
    "        \n",
    "#x_train['What % of the conference is business development?'] = x_train['What % of the conference is business development?'].astype('category').cat.codes\n",
    "#x_train['What % of the conference is business development?'] = x_train['What % of the conference is business development?'].astype('category',copy=False)\n",
    "#inv_map = {v: k for k, v in cat.items()}\n",
    "#vfun = np.vectorize(inv_map.get)\n",
    "\n",
    "#x_train.fillna(0, inplace=True)\n",
    "\n",
    "#y_test = y_test.to_frame()\n",
    "#y_test_num = pd.DataFrame(data = test['Category'].map(cat))"
   ]
  },
  {
   "cell_type": "code",
   "execution_count": 248,
   "metadata": {},
   "outputs": [
    {
     "name": "stdout",
     "output_type": "stream",
     "text": [
      "LR: 0.385076 (0.322085)\n",
      "KNN: 0.378088 (0.336731)\n",
      "CART: 0.456119 (0.340291)\n"
     ]
    }
   ],
   "source": [
    "seed = 7\n",
    "scoring = 'accuracy'\n",
    "# Spot Check Algorithms\n",
    "models = []\n",
    "models.append(('LR', LogisticRegression(solver='liblinear', multi_class='ovr')))\n",
    "#models.append(('LDA', LinearDiscriminantAnalysis()))\n",
    "models.append(('KNN', KNeighborsClassifier()))\n",
    "models.append(('CART', DecisionTreeClassifier()))\n",
    "#models.append(('NB', GaussianNB()))\n",
    "#models.append(('SVM', SVC(gamma='auto')))\n",
    "results = []\n",
    "names = []\n",
    "for name, model in models:\n",
    "\tkfold = model_selection.KFold(n_splits=10, random_state=seed)\n",
    "\tcv_results = model_selection.cross_val_score(model, x_train, y_train_num.values.ravel(), cv=kfold, scoring=scoring)\n",
    "\tresults.append(cv_results)\n",
    "\tnames.append(name)\n",
    "\tmsg = \"%s: %f (%f)\" % (name, cv_results.mean(), cv_results.std())\n",
    "\tprint(msg)"
   ]
  },
  {
   "cell_type": "code",
   "execution_count": 260,
   "metadata": {},
   "outputs": [
    {
     "name": "stdout",
     "output_type": "stream",
     "text": [
      "0.7113745831789552\n"
     ]
    }
   ],
   "source": [
    "result = pd.read_csv(\"results.csv\", encoding=\"unicode_escape\")\n",
    "test_val = result.drop(axis=1, inplace=False, labels = columns)\n",
    "for col in test_val.columns:\n",
    "    if test_val[col].dtype == 'O':\n",
    "        test_val[col] = test_val[col].astype('category').cat.codes\n",
    "        test_val[col] = test_val[col].astype('category',copy=False)\n",
    "test_val['What % of the conference is business development?'] = test_val['What % of the conference is business development?'].astype('category').cat.codes\n",
    "test_val['What % of the conference is business development?'] = test_val['What % of the conference is business development?'].astype('category',copy=False)\n",
    "results = result['Category']\n",
    "test_val.pop('Category')\n",
    "results = results.to_frame()\n",
    "results_num = pd.DataFrame(data = results['Category'].map(cat))\n",
    "\n",
    "clf = tree.DecisionTreeClassifier()\n",
    "clf = clf.fit(x_train, y_train_num)\n",
    "prediction = clf.predict(test_val)\n",
    "prediction = vfun(prediction)\n",
    "print(accuracy_score(results, prediction))\n",
    "#print(confusion_matrix(results, prediction))"
   ]
  },
  {
   "cell_type": "code",
   "execution_count": 250,
   "metadata": {},
   "outputs": [
    {
     "name": "stderr",
     "output_type": "stream",
     "text": [
      "/anaconda3/lib/python3.6/site-packages/sklearn/model_selection/_split.py:605: Warning: The least populated class in y has only 1 members, which is too few. The minimum number of members in any class cannot be less than n_splits=3.\n",
      "  % (min_groups, self.n_splits)), Warning)\n"
     ]
    },
    {
     "name": "stdout",
     "output_type": "stream",
     "text": [
      "0.9119170984455959 {'max_depth': 19}\n"
     ]
    }
   ],
   "source": [
    "param_can = {'max_depth':range(3,20)}\n",
    "kfold = model_selection.KFold(n_splits=10, random_state=seed)\n",
    "clf = GridSearchCV(tree.DecisionTreeClassifier(random_state=seed), param_can, n_jobs=4)\n",
    "clf.fit(x_train, y_train_num)\n",
    "tree_model = clf.best_estimator_\n",
    "print (clf.best_score_, clf.best_params_) "
   ]
  },
  {
   "cell_type": "code",
   "execution_count": 251,
   "metadata": {},
   "outputs": [
    {
     "name": "stdout",
     "output_type": "stream",
     "text": [
      "0.7098925527973323\n"
     ]
    }
   ],
   "source": [
    "prediction = tree_model.predict(test_val)\n",
    "prediction = vfun(prediction)\n",
    "print(accuracy_score(results, prediction))"
   ]
  },
  {
   "cell_type": "code",
   "execution_count": 252,
   "metadata": {},
   "outputs": [
    {
     "name": "stdout",
     "output_type": "stream",
     "text": [
      "0.7161911819192294\n"
     ]
    }
   ],
   "source": [
    "#Knn not as good as decision tree\n",
    "\n",
    "# finding best param for knn\n",
    "#params = {'n_neighbors':[31, 32, 33, 34, 35, 36, 37, 38, 29, 30]}#5,6,7,8,9,10,11]} #36 best param\n",
    "\n",
    "#knn = neighbors.KNeighborsRegressor()\n",
    "\n",
    "#model = GridSearchCV(knn, params, cv=5)\n",
    "#model.fit(x_train,y_train_num)\n",
    "#model.best_params_\n",
    "\n",
    "# predicting with knn\n",
    "#neigh = KNeighborsClassifier(n_neighbors = 36)\n",
    "#neigh.fit(x_train, y_train_num.values.ravel())\n",
    "#test_predict = neigh.predict(test_val)\n",
    "#print(accuracy_score(results_num, test_predict))\n",
    "\n",
    "\n",
    "C = 4.3\n",
    "LR = LogisticRegression(C=C)\n",
    "LR.fit(x_train, y_train_num.values.ravel())\n",
    "predictions = LR.predict(test_val) \n",
    "predictions = vfun(predictions)\n",
    "print (accuracy_score(results, predictions))"
   ]
  },
  {
   "cell_type": "code",
   "execution_count": null,
   "metadata": {},
   "outputs": [],
   "source": []
  },
  {
   "cell_type": "code",
   "execution_count": 111,
   "metadata": {
    "scrolled": false
   },
   "outputs": [],
   "source": []
  },
  {
   "cell_type": "code",
   "execution_count": null,
   "metadata": {},
   "outputs": [],
   "source": []
  },
  {
   "cell_type": "code",
   "execution_count": null,
   "metadata": {},
   "outputs": [],
   "source": []
  }
 ],
 "metadata": {
  "kernelspec": {
   "display_name": "Python 3",
   "language": "python",
   "name": "python3"
  },
  "language_info": {
   "codemirror_mode": {
    "name": "ipython",
    "version": 3
   },
   "file_extension": ".py",
   "mimetype": "text/x-python",
   "name": "python",
   "nbconvert_exporter": "python",
   "pygments_lexer": "ipython3",
   "version": "3.6.5"
  }
 },
 "nbformat": 4,
 "nbformat_minor": 2
}
